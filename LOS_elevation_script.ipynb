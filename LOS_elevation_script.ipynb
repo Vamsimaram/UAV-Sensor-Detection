{
 "cells": [
  {
   "cell_type": "code",
   "execution_count": 1,
   "id": "c1f9c61c-0761-4b35-bf33-48ff246c17f8",
   "metadata": {},
   "outputs": [],
   "source": [
    "import os\n",
    "import elevation\n",
    "import rasterio\n",
    "import numpy as np\n",
    "\n",
    "# Set up a temporary SRTM data directory (absolute path)\n",
    "elevation_data_dir = os.path.abspath('./elevation_data')\n",
    "os.makedirs(elevation_data_dir, exist_ok=True)\n",
    "output_path = os.path.join(elevation_data_dir, \"srtm.tif\")\n",
    "\n",
    "def download_srtm_data(lat1, lon1, lat2, lon2):\n",
    "    bounds = (\n",
    "        min(lon1, lon2) - 0.01,  # west\n",
    "        min(lat1, lat2) - 0.01,  # south\n",
    "        max(lon1, lon2) + 0.01,  # east\n",
    "        max(lat1, lat2) + 0.01   # north\n",
    "    )\n",
    "    elevation.clip(bounds=bounds, output=output_path)\n",
    "\n",
    "def get_elevation(lat, lon, dataset):\n",
    "    coords = np.array([[lon, lat]])  # rasterio uses lon, lat\n",
    "    for val in dataset.sample(coords):\n",
    "        return val[0]  # Elevation in meters\n",
    "\n",
    "def check_los(sensor, uav, dataset, num_points=100):\n",
    "    lat_s, lon_s = sensor  # Now sensor is (lat, lon)\n",
    "    lat_u, lon_u, alt_u = uav\n",
    "\n",
    "    # Get sensor ground elevation from DEM\n",
    "    alt_s = get_elevation(lat_s, lon_s, dataset)\n",
    "\n",
    "    # Interpolate lat/lon/alt along the path\n",
    "    lats = np.linspace(lat_s, lat_u, num_points)\n",
    "    lons = np.linspace(lon_s, lon_u, num_points)\n",
    "    los_line = np.linspace(alt_s, alt_u, num_points)\n",
    "\n",
    "    for lat, lon, los_alt in zip(lats, lons, los_line):\n",
    "        terrain_alt = get_elevation(lat, lon, dataset)\n",
    "        if terrain_alt is not None and terrain_alt > los_alt:\n",
    "            return False\n",
    "    return True"
   ]
  },
  {
   "cell_type": "code",
   "execution_count": 2,
   "id": "62470224-0f45-4b2f-b11a-b103883d0bd7",
   "metadata": {},
   "outputs": [
    {
     "name": "stdout",
     "output_type": "stream",
     "text": [
      "make: Entering directory '/Users/talmanie/Library/Caches/elevation/SRTM1'\n",
      "make: Nothing to be done for 'download'.\n",
      "make: Leaving directory '/Users/talmanie/Library/Caches/elevation/SRTM1'\n",
      "make: Entering directory '/Users/talmanie/Library/Caches/elevation/SRTM1'\n",
      "make: Nothing to be done for 'all'.\n",
      "make: Leaving directory '/Users/talmanie/Library/Caches/elevation/SRTM1'\n",
      "make: Entering directory '/Users/talmanie/Library/Caches/elevation/SRTM1'\n",
      "cp SRTM1.vrt SRTM1.7727cd9476444e35987df0c76844390c.vrt\n",
      "make: Leaving directory '/Users/talmanie/Library/Caches/elevation/SRTM1'\n",
      "make: Entering directory '/Users/talmanie/Library/Caches/elevation/SRTM1'\n",
      "gdal_translate -q -co TILED=YES -co COMPRESS=DEFLATE -co ZLEVEL=9 -co PREDICTOR=2 -projwin -83.46000000000001 35.58 -83.41 35.54 SRTM1.7727cd9476444e35987df0c76844390c.vrt /Users/talmanie/Desktop/Jupyter/OptiSensor/elevation_data/elevation_data/srtm.tif\n",
      "rm -f SRTM1.7727cd9476444e35987df0c76844390c.vrt\n",
      "make: Leaving directory '/Users/talmanie/Library/Caches/elevation/SRTM1'\n",
      "Line of Sight is BLOCKED\n"
     ]
    }
   ],
   "source": [
    "# Example usage\n",
    "if __name__ == \"__main__\":\n",
    "    # Example sensor location (on the ground)\n",
    "    sensor = (35.55, -83.45)  # (lat, lon), no altitude\n",
    "\n",
    "    # Example UAV location (lat, lon, altitude_meters)\n",
    "    uav = (35.57, -83.42, 1200)\n",
    "\n",
    "    # Download SRTM data for the region\n",
    "    download_srtm_data(sensor[0], sensor[1], uav[0], uav[1])\n",
    "\n",
    "    # Open the DEM\n",
    "    with rasterio.open(output_path) as dem:\n",
    "        # Check line of sight (sensor on the ground)\n",
    "        los_result = check_los(sensor, uav, dem)\n",
    "        print(\"Line of Sight is\", \"CLEAR\" if los_result else \"BLOCKED\")"
   ]
  },
  {
   "cell_type": "code",
   "execution_count": 3,
   "id": "6652f273-3ff7-4266-9176-cffcc82d592f",
   "metadata": {},
   "outputs": [
    {
     "name": "stdout",
     "output_type": "stream",
     "text": [
      "make: Entering directory '/Users/talmanie/Library/Caches/elevation/SRTM1'\n",
      "make: Nothing to be done for 'download'.\n",
      "make: Leaving directory '/Users/talmanie/Library/Caches/elevation/SRTM1'\n",
      "make: Entering directory '/Users/talmanie/Library/Caches/elevation/SRTM1'\n",
      "make: Nothing to be done for 'all'.\n",
      "make: Leaving directory '/Users/talmanie/Library/Caches/elevation/SRTM1'\n",
      "make: Entering directory '/Users/talmanie/Library/Caches/elevation/SRTM1'\n",
      "cp SRTM1.vrt SRTM1.f6b6b4f299644fafaa5b388da1ca59e4.vrt\n",
      "make: Leaving directory '/Users/talmanie/Library/Caches/elevation/SRTM1'\n",
      "make: Entering directory '/Users/talmanie/Library/Caches/elevation/SRTM1'\n",
      "gdal_translate -q -co TILED=YES -co COMPRESS=DEFLATE -co ZLEVEL=9 -co PREDICTOR=2 -projwin -100.01 39.01 -99.97999999999999 38.99 SRTM1.f6b6b4f299644fafaa5b388da1ca59e4.vrt /Users/talmanie/Desktop/Jupyter/OptiSensor/elevation_data/elevation_data/srtm.tif\n",
      "rm -f SRTM1.f6b6b4f299644fafaa5b388da1ca59e4.vrt\n",
      "make: Leaving directory '/Users/talmanie/Library/Caches/elevation/SRTM1'\n",
      "Line of Sight is CLEAR\n"
     ]
    }
   ],
   "source": [
    "# Example usage\n",
    "if __name__ == \"__main__\":\n",
    "    # Example: Ground sensor in Kansas, very flat\n",
    "    sensor = (39.0, -100.0)  # lat, lon\n",
    "\n",
    "    # UAV is 2000 meters above the ground, 1 km east of the sensor\n",
    "    uav = (39.0, -99.99, 2000)  # lat, lon, altitude\n",
    "\n",
    "    download_srtm_data(sensor[0], sensor[1], uav[0], uav[1])\n",
    "\n",
    "    with rasterio.open(output_path) as dem:\n",
    "        los_result = check_los(sensor, uav, dem)\n",
    "        print(\"Line of Sight is\", \"CLEAR\" if los_result else \"BLOCKED\")"
   ]
  },
  {
   "cell_type": "code",
   "execution_count": 4,
   "id": "126ca3df-740c-415b-a8af-82843eeede60",
   "metadata": {},
   "outputs": [
    {
     "name": "stdout",
     "output_type": "stream",
     "text": [
      "make: Entering directory '/Users/talmanie/Library/Caches/elevation/SRTM1'\n",
      "make: Nothing to be done for 'download'.\n",
      "make: Leaving directory '/Users/talmanie/Library/Caches/elevation/SRTM1'\n",
      "make: Entering directory '/Users/talmanie/Library/Caches/elevation/SRTM1'\n",
      "make: Nothing to be done for 'all'.\n",
      "make: Leaving directory '/Users/talmanie/Library/Caches/elevation/SRTM1'\n",
      "make: Entering directory '/Users/talmanie/Library/Caches/elevation/SRTM1'\n",
      "cp SRTM1.vrt SRTM1.5e77af0be2b0467ca05eefc10e2be218.vrt\n",
      "make: Leaving directory '/Users/talmanie/Library/Caches/elevation/SRTM1'\n",
      "make: Entering directory '/Users/talmanie/Library/Caches/elevation/SRTM1'\n",
      "gdal_translate -q -co TILED=YES -co COMPRESS=DEFLATE -co ZLEVEL=9 -co PREDICTOR=2 -projwin -83.51 35.61 -83.39 35.59 SRTM1.5e77af0be2b0467ca05eefc10e2be218.vrt /Users/talmanie/Desktop/Jupyter/OptiSensor/elevation_data/elevation_data/srtm.tif\n",
      "rm -f SRTM1.5e77af0be2b0467ca05eefc10e2be218.vrt\n",
      "make: Leaving directory '/Users/talmanie/Library/Caches/elevation/SRTM1'\n",
      "Line of Sight is CLEAR\n"
     ]
    }
   ],
   "source": [
    "# Example usage\n",
    "if __name__ == \"__main__\":\n",
    "    sensor = (35.6, -83.5)  # Lat/lon in the Smokies\n",
    "    uav = (35.6, -83.4, 4000)  # 4000 meters is above all terrain in the eastern US\n",
    "\n",
    "    download_srtm_data(sensor[0], sensor[1], uav[0], uav[1])\n",
    "\n",
    "    with rasterio.open(output_path) as dem:\n",
    "        los_result = check_los(sensor, uav, dem)\n",
    "        print(\"Line of Sight is\", \"CLEAR\" if los_result else \"BLOCKED\")"
   ]
  },
  {
   "cell_type": "code",
   "execution_count": 5,
   "id": "25d1e4df-eedb-4ab4-b1a1-71a5acecd4cd",
   "metadata": {},
   "outputs": [
    {
     "name": "stdout",
     "output_type": "stream",
     "text": [
      "make: Entering directory '/Users/talmanie/Library/Caches/elevation/SRTM1'\n",
      "make: Nothing to be done for 'download'.\n",
      "make: Leaving directory '/Users/talmanie/Library/Caches/elevation/SRTM1'\n",
      "make: Entering directory '/Users/talmanie/Library/Caches/elevation/SRTM1'\n",
      "make: Nothing to be done for 'all'.\n",
      "make: Leaving directory '/Users/talmanie/Library/Caches/elevation/SRTM1'\n",
      "make: Entering directory '/Users/talmanie/Library/Caches/elevation/SRTM1'\n",
      "cp SRTM1.vrt SRTM1.1ef48607afaf425780387a77346e909b.vrt\n",
      "make: Leaving directory '/Users/talmanie/Library/Caches/elevation/SRTM1'\n",
      "make: Entering directory '/Users/talmanie/Library/Caches/elevation/SRTM1'\n",
      "gdal_translate -q -co TILED=YES -co COMPRESS=DEFLATE -co ZLEVEL=9 -co PREDICTOR=2 -projwin -83.51 35.61 -83.39 35.59 SRTM1.1ef48607afaf425780387a77346e909b.vrt /Users/talmanie/Desktop/Jupyter/OptiSensor/elevation_data/elevation_data/srtm.tif\n",
      "rm -f SRTM1.1ef48607afaf425780387a77346e909b.vrt\n",
      "make: Leaving directory '/Users/talmanie/Library/Caches/elevation/SRTM1'\n",
      "Line of Sight is BLOCKED\n"
     ]
    }
   ],
   "source": [
    "# Example usage\n",
    "if __name__ == \"__main__\":\n",
    "    sensor = (35.6, -83.5)  # Lat/lon in the Smokies\n",
    "    uav = (35.6, -83.4, 800)  # Lat/lon eastward, but only 800 meters high\n",
    "\n",
    "    download_srtm_data(sensor[0], sensor[1], uav[0], uav[1])\n",
    "\n",
    "    with rasterio.open(output_path) as dem:\n",
    "        los_result = check_los(sensor, uav, dem)\n",
    "        print(\"Line of Sight is\", \"CLEAR\" if los_result else \"BLOCKED\")"
   ]
  },
  {
   "cell_type": "code",
   "execution_count": null,
   "id": "ab7950bd-df46-407b-9391-83951ff1338c",
   "metadata": {},
   "outputs": [],
   "source": []
  }
 ],
 "metadata": {
  "kernelspec": {
   "display_name": "Python 3 (ipykernel)",
   "language": "python",
   "name": "python3"
  },
  "language_info": {
   "codemirror_mode": {
    "name": "ipython",
    "version": 3
   },
   "file_extension": ".py",
   "mimetype": "text/x-python",
   "name": "python",
   "nbconvert_exporter": "python",
   "pygments_lexer": "ipython3",
   "version": "3.12.2"
  }
 },
 "nbformat": 4,
 "nbformat_minor": 5
}
